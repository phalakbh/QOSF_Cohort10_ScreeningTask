{
 "cells": [
  {
   "cell_type": "markdown",
   "metadata": {},
   "source": [
    "## Bonus Question 1: How would you sample from the final states in the statevector or tensor representations? "
   ]
  },
  {
   "cell_type": "markdown",
   "metadata": {},
   "source": [
    "### Statevector Representation"
   ]
  },
  {
   "cell_type": "code",
   "execution_count": 8,
   "metadata": {},
   "outputs": [
    {
     "name": "stdout",
     "output_type": "stream",
     "text": [
      "Statevector Outcome:\n",
      "{'0': 52, '1': 48}\n",
      "{'1': 49, '0': 51}\n",
      "{'11': 47, '00': 53}\n",
      "{'111': 49, '000': 51}\n",
      "{'0000': 39, '1111': 61}\n",
      "{'111': 33, '101': 26, '011': 27, '000': 14}\n"
     ]
    }
   ],
   "source": [
    "from collections import defaultdict\n",
    "import numpy as np\n",
    "\n",
    "# sampling from the final states in the statevector\n",
    "\n",
    "def sample_from_statevector(statevector, num_samples=1000):\n",
    "    # probabilities from statevector\n",
    "    probabilities = np.abs(statevector) ** 2\n",
    "\n",
    "    # number of qubits\n",
    "    num_qubits = int(np.log2(len(statevector)))\n",
    "\n",
    "    # samples\n",
    "    outcomes = np.arange(2 ** num_qubits)\n",
    "\n",
    "    # sample from the probabilities\n",
    "    samples = np.random.choice(outcomes, size=num_samples, p=probabilities)\n",
    "\n",
    "    # convert outcomes to binary strings and count frequencies\n",
    "    sample_counts = defaultdict(int)\n",
    "    for sample in samples:\n",
    "        binary_str = np.binary_repr(sample, width=num_qubits)\n",
    "        sample_counts[binary_str] += 1\n",
    "\n",
    "    return dict(sample_counts)\n",
    "\n",
    "\n",
    "statevectors = [\n",
    "                    [1/2**0.5, 1/2**0.5],                           # + sate\n",
    "                    [1/2**0.5, (-1)**0.5/2**0.5],                   # i sate\n",
    "                    [1/2**0.5, 0, 0, 1/2**0.5],                     # Bell psi plus\n",
    "                    [1/2**0.5, 0, 0, 0, 0, 0, 0, 1/2**0.5],         # GHZ 3 qubits\n",
    "                    [1/2**0.5, 0, 0, 0, 0, 0, 0, 0, 0, 0, 0, 0, 0, 0, 0, 1/2**0.5], # GHZ 4 qubits\n",
    "                    [0.5, 0, 0, 0.5, 0, 0.5, 0, 0.5]                # random state with 3 qubits\n",
    "                ]\n",
    "print(\"Statevector Outcome:\")\n",
    "for statevector in statevectors:\n",
    "    samples = sample_from_statevector(statevector, num_samples=100)\n",
    "    print(samples)\n"
   ]
  },
  {
   "cell_type": "markdown",
   "metadata": {},
   "source": [
    "### Tensor Representation"
   ]
  },
  {
   "cell_type": "code",
   "execution_count": 7,
   "metadata": {},
   "outputs": [
    {
     "name": "stdout",
     "output_type": "stream",
     "text": [
      "Tensor Representation Outcome:\n",
      "{'0': 55, '1': 45}\n",
      "{'1': 62, '0': 38}\n",
      "{'11': 48, '00': 52}\n",
      "{'111': 46, '000': 54}\n",
      "{'1111': 55, '0000': 45}\n",
      "{'101': 29, '111': 24, '000': 27, '011': 20}\n"
     ]
    }
   ],
   "source": [
    "def tensor_representation(statevector):\n",
    "    # Determine number of qubits\n",
    "    num_qubits = int(np.log2(len(statevector)))\n",
    "\n",
    "    # Reshape the statevector to its tensor product form\n",
    "    tensor_form = np.reshape(statevector, [2] * num_qubits)\n",
    "\n",
    "    # Flatten the tensor representation\n",
    "    flattened_tensor = np.ravel(tensor_form)\n",
    "\n",
    "    return flattened_tensor\n",
    "\n",
    "print(\"Tensor Representation Outcome:\")\n",
    "for statevector in statevectors:\n",
    "    tensor_flat = tensor_representation(statevector)\n",
    "    samples = sample_from_statevector(tensor_flat,num_samples=100)\n",
    "    print(samples)"
   ]
  },
  {
   "cell_type": "markdown",
   "metadata": {},
   "source": [
    "## Bonus Question 2: How will you compute exact expectation values in the form <Ψ| Op |Ψ>?\n"
   ]
  },
  {
   "cell_type": "code",
   "execution_count": 5,
   "metadata": {},
   "outputs": [
    {
     "name": "stdout",
     "output_type": "stream",
     "text": [
      "Expectation value of the Hadamard Operator: 0.7071067811865474\n",
      "Expectation value of the Pauli-X Operator: 0.9999999999999998\n",
      "Expectation value of the Pauli-Y Operator: 0j\n",
      "Expectation value of the Pauli-Z Operator: 0.0\n",
      "Expectation value of the Identity Operator: 0.9999999999999998\n"
     ]
    }
   ],
   "source": [
    "# Define single-qubit gates\n",
    "X = np.array([[0, 1],\n",
    "              [1, 0]])  # Pauli-X gate\n",
    "Z= np.array([[1, 0],\n",
    "             [0, -1]])\n",
    "Y= np.array([[0, -1],\n",
    "             [1, 0]])* (-1)**0.5\n",
    "H = np.array([[1/np.sqrt(2), 1/np.sqrt(2)],              \n",
    "              [1/np.sqrt(2), -1/np.sqrt(2)]])  # Hadamard gate\n",
    "I = np.eye(2)  # Identity gate\n",
    "\n",
    "# Define CNOT gate for two qubits\n",
    "CNOT_matrix = np.array([[1, 0, 0, 0],\n",
    "                        [0, 1, 0, 0], \n",
    "                        [0, 0, 0, 1],\n",
    "                        [0, 0, 1, 0]])  # CNOT gate\n",
    "\n",
    "\n",
    "def compute_expectation_value(statevector, operator):\n",
    "\n",
    "    # Apply the operator to the statevector (matrix-vector multiplication); | O | Psi>\n",
    "    op_applied_to_psi = np.dot(operator, statevector)\n",
    "\n",
    "    # Compute the inner product: \n",
    "    # vdot computes conjugate inner product\n",
    "    expectation_value = np.vdot(statevector, op_applied_to_psi)\n",
    "\n",
    "    return expectation_value\n",
    "\n",
    "# Example: Statevector for a 1-qubit |+> state (superposition state)\n",
    "statevector = np.array([1/2**0.5, 1/2**0.5])  # |+> = (|0> + |1>)/sqrt(2)\n",
    "\n",
    "# Compute expectation value of Hadamard\n",
    "expectation_value = compute_expectation_value(statevector, H)\n",
    "print(\"Expectation value of the Hadamard Operator:\", expectation_value)\n",
    "\n",
    "\n",
    "# Compute expectation value of Pauli-X\n",
    "expectation_value = compute_expectation_value(statevector, X)\n",
    "print(\"Expectation value of the Pauli-X Operator:\", expectation_value)\n",
    "\n",
    "# Compute expectation value of Pauli-Y\n",
    "expectation_value = compute_expectation_value(statevector, Y)\n",
    "print(\"Expectation value of the Pauli-Y Operator:\", expectation_value)\n",
    "\n",
    "# Compute expectation value of Pauli-Z\n",
    "expectation_value = compute_expectation_value(statevector, Z)\n",
    "print(\"Expectation value of the Pauli-Z Operator:\", expectation_value)\n",
    "\n",
    "# Compute expectation value of Identity\n",
    "expectation_value = compute_expectation_value(statevector, I)\n",
    "print(\"Expectation value of the Identity Operator:\", expectation_value)"
   ]
  },
  {
   "cell_type": "markdown",
   "metadata": {},
   "source": []
  }
 ],
 "metadata": {
  "kernelspec": {
   "display_name": "base",
   "language": "python",
   "name": "python3"
  },
  "language_info": {
   "codemirror_mode": {
    "name": "ipython",
    "version": 3
   },
   "file_extension": ".py",
   "mimetype": "text/x-python",
   "name": "python",
   "nbconvert_exporter": "python",
   "pygments_lexer": "ipython3",
   "version": "3.11.7"
  }
 },
 "nbformat": 4,
 "nbformat_minor": 2
}
